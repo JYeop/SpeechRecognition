{
 "cells": [
  {
   "cell_type": "code",
   "execution_count": 1,
   "metadata": {},
   "outputs": [],
   "source": [
    "import numpy as np\n",
    "import pandas as pds\n",
    "import matplotlib.pyplot as plt\n",
    "from matplotlib import pylab\n",
    "import seaborn as sns"
   ]
  },
  {
   "cell_type": "code",
   "execution_count": 2,
   "metadata": {},
   "outputs": [
    {
     "name": "stdout",
     "output_type": "stream",
     "text": [
      "      PatientId  AppointmentID Gender          ScheduledDay  \\\n",
      "0  2.987250e+13        5642903      F  2016-04-29T18:38:08Z   \n",
      "1  5.589978e+14        5642503      M  2016-04-29T16:08:27Z   \n",
      "2  4.262962e+12        5642549      F  2016-04-29T16:19:04Z   \n",
      "3  8.679512e+11        5642828      F  2016-04-29T17:29:31Z   \n",
      "4  8.841186e+12        5642494      F  2016-04-29T16:07:23Z   \n",
      "\n",
      "         AppointmentDay  Age      Neighbourhood  Scholarship  Hipertension  \\\n",
      "0  2016-04-29T00:00:00Z   62    JARDIM DA PENHA            0             1   \n",
      "1  2016-04-29T00:00:00Z   56    JARDIM DA PENHA            0             0   \n",
      "2  2016-04-29T00:00:00Z   62      MATA DA PRAIA            0             0   \n",
      "3  2016-04-29T00:00:00Z    8  PONTAL DE CAMBURI            0             0   \n",
      "4  2016-04-29T00:00:00Z   56    JARDIM DA PENHA            0             1   \n",
      "\n",
      "   Diabetes  Alcoholism  Handcap  SMS_received No-show  \n",
      "0         0           0        0             0      No  \n",
      "1         0           0        0             0      No  \n",
      "2         0           0        0             0      No  \n",
      "3         0           0        0             0      No  \n",
      "4         1           0        0             0      No  \n"
     ]
    }
   ],
   "source": [
    "# sns.set_style(\"whitegrid\")\n",
    "\n",
    "noShow = pds.read_csv('KaggleV2-May-2016.csv')\n",
    "print(noShow.head())"
   ]
  },
  {
   "cell_type": "code",
   "execution_count": 3,
   "metadata": {},
   "outputs": [
    {
     "name": "stdout",
     "output_type": "stream",
     "text": [
      "Index(['PatientId', 'AppointmentID', 'Gender', 'ScheduledDay',\n",
      "       'AppointmentDay', 'Age', 'Neighbourhood', 'Scholarship', 'Hipertension',\n",
      "       'Diabetes', 'Alcoholism', 'Handcap', 'SMS_received', 'No-show'],\n",
      "      dtype='object')\n"
     ]
    }
   ],
   "source": [
    "print(noShow.columns)"
   ]
  },
  {
   "cell_type": "code",
   "execution_count": 4,
   "metadata": {},
   "outputs": [
    {
     "name": "stdout",
     "output_type": "stream",
     "text": [
      "<class 'pandas.core.frame.DataFrame'>\n",
      "RangeIndex: 110527 entries, 0 to 110526\n",
      "Data columns (total 14 columns):\n",
      "PatientId         110527 non-null float64\n",
      "AppointmentID     110527 non-null int64\n",
      "Gender            110527 non-null object\n",
      "ScheduledDay      110527 non-null object\n",
      "AppointmentDay    110527 non-null object\n",
      "Age               110527 non-null int64\n",
      "Neighbourhood     110527 non-null object\n",
      "Scholarship       110527 non-null int64\n",
      "Hypertension      110527 non-null int64\n",
      "Diabetes          110527 non-null int64\n",
      "Alcoholism        110527 non-null int64\n",
      "Handcap           110527 non-null int64\n",
      "SMS_received      110527 non-null int64\n",
      "is_show           110527 non-null int64\n",
      "dtypes: float64(1), int64(9), object(4)\n",
      "memory usage: 11.8+ MB\n"
     ]
    }
   ],
   "source": [
    "noShow = noShow.rename(columns = {'PatientId':'PatientId', 'AppointmentID':'AppointmentID', 'Gender':'Gender', \n",
    "                                  'ScheduledDay':'ScheduledDay', 'AppointmentDay':'AppointmentDay', \n",
    "                                  'Age':'Age', 'Neighbourhood':'Neighbourhood', 'Scholarship':'Scholarship', \n",
    "                                  'Hipertension':'Hypertension', 'Diabetes':'Diabetes', 'Alcoholism':'Alcoholism', \n",
    "                                  'Handcap': 'Handcap', 'SMS_received':'SMS_received', 'No-show':'is_show'})\n",
    "noShow['is_show'] = noShow['is_show'].map({'No': 1, 'Yes': 0})\n",
    "noShow.head()\n",
    "noShow.info()"
   ]
  },
  {
   "cell_type": "code",
   "execution_count": 5,
   "metadata": {},
   "outputs": [],
   "source": [
    "# print(noShow.columns)"
   ]
  },
  {
   "cell_type": "code",
   "execution_count": 6,
   "metadata": {},
   "outputs": [
    {
     "data": {
      "image/png": "[encoded data removed]",
      "text/plain": [
       "<matplotlib.figure.Figure at 0x7fe08b674ba8>"
      ]
     },
     "metadata": {},
     "output_type": "display_data"
    }
   ],
   "source": [
    "sns.countplot(x='is_show', data=noShow, palette='Set1')\n",
    "plt.show()"
   ]
  },
  {
   "cell_type": "code",
   "execution_count": 9,
   "metadata": {},
   "outputs": [],
   "source": [
    "noShow = noShow[(noShow.Age >= 0) & (noShow.Age <=100)]"
   ]
  },
  {
   "cell_type": "code",
   "execution_count": 10,
   "metadata": {},
   "outputs": [
    {
     "name": "stdout",
     "output_type": "stream",
     "text": [
      "Age: [0, 1, 2, 3, 4, 5, 6, 7, 8, 9, 10, 11, 12, 13, 14, 15, 16, 17, 18, 19, 20, 21, 22, 23, 24, 25, 26, 27, 28, 29, 30, 31, 32, 33, 34, 35, 36, 37, 38, 39, 40, 41, 42, 43, 44, 45, 46, 47, 48, 49, 50, 51, 52, 53, 54, 55, 56, 57, 58, 59, 60, 61, 62, 63, 64, 65, 66, 67, 68, 69, 70, 71, 72, 73, 74, 75, 76, 77, 78, 79, 80, 81, 82, 83, 84, 85, 86, 87, 88, 89, 90, 91, 92, 93, 94, 95, 96, 97, 98, 99, 100]\n",
      "Neighbourhood ['JARDIM DA PENHA' 'MATA DA PRAIA' 'PONTAL DE CAMBURI' 'REPÚBLICA'\n",
      " 'GOIABEIRAS' 'ANDORINHAS' 'CONQUISTA' 'NOVA PALESTINA' 'DA PENHA'\n",
      " 'TABUAZEIRO' 'BENTO FERREIRA' 'SÃO PEDRO' 'SANTA MARTHA' 'SÃO CRISTÓVÃO'\n",
      " 'MARUÍPE' 'GRANDE VITÓRIA' 'SÃO BENEDITO' 'ILHA DAS CAIEIRAS'\n",
      " 'SANTO ANDRÉ' 'SOLON BORGES' 'BONFIM' 'JARDIM CAMBURI' 'MARIA ORTIZ'\n",
      " 'JABOUR' 'ANTÔNIO HONÓRIO' 'RESISTÊNCIA' 'ILHA DE SANTA MARIA'\n",
      " 'JUCUTUQUARA' 'MONTE BELO' 'MÁRIO CYPRESTE' 'SANTO ANTÔNIO' 'BELA VISTA'\n",
      " 'PRAIA DO SUÁ' 'SANTA HELENA' 'ITARARÉ' 'INHANGUETÁ' 'UNIVERSITÁRIO'\n",
      " 'SÃO JOSÉ' 'REDENÇÃO' 'SANTA CLARA' 'CENTRO' 'PARQUE MOSCOSO' 'DO MOSCOSO'\n",
      " 'SANTOS DUMONT' 'CARATOÍRA' 'ARIOVALDO FAVALESSA' 'ILHA DO FRADE'\n",
      " 'GURIGICA' 'JOANA D´ARC' 'CONSOLAÇÃO' 'PRAIA DO CANTO' 'BOA VISTA'\n",
      " 'MORADA DE CAMBURI' 'SANTA LUÍZA' 'SANTA LÚCIA' 'BARRO VERMELHO'\n",
      " 'ESTRELINHA' 'FORTE SÃO JOÃO' 'FONTE GRANDE' 'ENSEADA DO SUÁ'\n",
      " 'SANTOS REIS' 'PIEDADE' 'JESUS DE NAZARETH' 'SANTA TEREZA' 'CRUZAMENTO'\n",
      " 'ILHA DO PRÍNCIPE' 'ROMÃO' 'COMDUSA' 'SANTA CECÍLIA' 'VILA RUBIM'\n",
      " 'DE LOURDES' 'DO QUADRO' 'DO CABRAL' 'HORTO' 'SEGURANÇA DO LAR'\n",
      " 'ILHA DO BOI' 'FRADINHOS' 'NAZARETH' 'AEROPORTO'\n",
      " 'ILHAS OCEÂNICAS DE TRINDADE' 'PARQUE INDUSTRIAL']\n",
      "Scholarship [0 1]\n",
      "Hypertension [1 0]\n",
      "Diabetes [0 1]\n",
      "Alcoholism [0 1]\n",
      "Handcap [0 1 2 3 4]\n",
      "SMS_received [0 1]\n",
      "is_show [1 0]\n"
     ]
    }
   ],
   "source": [
    "print('Age:', sorted(noShow.Age.unique()))\n",
    "print('Neighbourhood', noShow.Neighbourhood.unique())\n",
    "print('Scholarship', noShow.Scholarship.unique())\n",
    "print('Hypertension', noShow.Hypertension.unique())\n",
    "print('Diabetes', noShow.Diabetes.unique())\n",
    "print('Alcoholism', noShow.Alcoholism.unique())\n",
    "print('Handcap',noShow.Handcap.unique())\n",
    "print('SMS_received', noShow.SMS_received.unique())\n",
    "print('is_show', noShow.is_show.unique())"
   ]
  },
  {
   "cell_type": "code",
   "execution_count": 11,
   "metadata": {},
   "outputs": [
    {
     "name": "stdout",
     "output_type": "stream",
     "text": [
      "0   2016-04-29\n",
      "1   2016-04-29\n",
      "2   2016-04-29\n",
      "3   2016-04-29\n",
      "4   2016-04-29\n",
      "Name: AppointmentDay, dtype: datetime64[ns]\n",
      "0   2016-04-29 18:38:08\n",
      "1   2016-04-29 16:08:27\n",
      "2   2016-04-29 16:19:04\n",
      "3   2016-04-29 17:29:31\n",
      "4   2016-04-29 16:07:23\n",
      "Name: ScheduledDay, dtype: datetime64[ns]\n"
     ]
    }
   ],
   "source": [
    "noShow.AppointmentDay = noShow.AppointmentDay.apply(np.datetime64)\n",
    "noShow.ScheduledDay = noShow.ScheduledDay.apply(np.datetime64)\n",
    "print(noShow.AppointmentDay.head())\n",
    "print(noShow.ScheduledDay.head())"
   ]
  },
  {
   "cell_type": "code",
   "execution_count": 12,
   "metadata": {},
   "outputs": [],
   "source": [
    "def calculateHour(timestamp):\n",
    "    timestamp = str(timestamp)\n",
    "    hour = int(timestamp[11:13])\n",
    "    minute = int(timestamp[14:16])\n",
    "    second = int(timestamp[17:])\n",
    "    return round(hour + minute/60 + second/3600)\n",
    "\n",
    "noShow['HourOfTheDay'] = noShow.ScheduledDay.apply(calculateHour)"
   ]
  },
  {
   "cell_type": "code",
   "execution_count": 15,
   "metadata": {},
   "outputs": [
    {
     "data": {
      "text/html": [
       "<div>\n",
       "<style scoped>\n",
       "    .dataframe tbody tr th:only-of-type {\n",
       "        vertical-align: middle;\n",
       "    }\n",
       "\n",
       "    .dataframe tbody tr th {\n",
       "        vertical-align: top;\n",
       "    }\n",
       "\n",
       "    .dataframe thead th {\n",
       "        text-align: right;\n",
       "    }\n",
       "</style>\n",
       "<table border=\"1\" class=\"dataframe\">\n",
       "  <thead>\n",
       "    <tr style=\"text-align: right;\">\n",
       "      <th>is_show</th>\n",
       "      <th>Handcap</th>\n",
       "      <th>probShowUp</th>\n",
       "    </tr>\n",
       "  </thead>\n",
       "  <tbody>\n",
       "    <tr>\n",
       "      <th>0</th>\n",
       "      <td>0</td>\n",
       "      <td>0.797639</td>\n",
       "    </tr>\n",
       "    <tr>\n",
       "      <th>1</th>\n",
       "      <td>1</td>\n",
       "      <td>0.821884</td>\n",
       "    </tr>\n",
       "    <tr>\n",
       "      <th>2</th>\n",
       "      <td>2</td>\n",
       "      <td>0.797814</td>\n",
       "    </tr>\n",
       "    <tr>\n",
       "      <th>3</th>\n",
       "      <td>3</td>\n",
       "      <td>0.769231</td>\n",
       "    </tr>\n",
       "    <tr>\n",
       "      <th>4</th>\n",
       "      <td>4</td>\n",
       "      <td>0.666667</td>\n",
       "    </tr>\n",
       "  </tbody>\n",
       "</table>\n",
       "</div>"
      ],
      "text/plain": [
       "is_show  Handcap  probShowUp\n",
       "0              0    0.797639\n",
       "1              1    0.821884\n",
       "2              2    0.797814\n",
       "3              3    0.769231\n",
       "4              4    0.666667"
      ]
     },
     "execution_count": 15,
     "metadata": {},
     "output_type": "execute_result"
    }
   ],
   "source": [
    "# def probStatus(dataset, group_by):\n",
    "#     df = pds.crosstab(index = dataset[group_by], columns = dataset.Status).reset_index()\n",
    "#     df['probShowUp'] = df['No'] / (df['No'] + df['Yes'])\n",
    "#     return df[[group_by, 'probShowUp']]\n",
    "def probStatus(dataset, group_by):\n",
    "    df = pds.crosstab(index = dataset[group_by], columns = noShow.is_show).reset_index()\n",
    "    df['probShowUp'] = df[1] / (df[0] + df[1])\n",
    "    return df[[group_by, 'probShowUp']]\n",
    "probStatus(noShow, 'Handcap')"
   ]
  },
  {
   "cell_type": "code",
   "execution_count": 12,
   "metadata": {},
   "outputs": [],
   "source": [
    "# noShow = noShow[(noShow.Age >= 0) & (noShow.Age <=100)]\n",
    "# # noShow = noShow[(noShow.Age >= 0) & (noShow.Age <= 95)]\n",
    "# print(type(noShow.Age))"
   ]
  },
  {
   "cell_type": "code",
   "execution_count": 13,
   "metadata": {},
   "outputs": [],
   "source": [
    "# print(noShow.columns)"
   ]
  },
  {
   "cell_type": "code",
   "execution_count": 14,
   "metadata": {},
   "outputs": [],
   "source": [
    "# noShow.rename('no-Show', 'noshows')"
   ]
  },
  {
   "cell_type": "code",
   "execution_count": 15,
   "metadata": {},
   "outputs": [],
   "source": [
    "# type(probStatus(noShow, 'Age'))"
   ]
  },
  {
   "cell_type": "markdown",
   "metadata": {},
   "source": [
    "### sns.plt 가 왜 안되는거지?\n"
   ]
  },
  {
   "cell_type": "code",
   "execution_count": 16,
   "metadata": {},
   "outputs": [
    {
     "data": {
      "image/png": "[encoded data removed]",
      "text/plain": [
       "<matplotlib.figure.Figure at 0x7feeac7b5cc0>"
      ]
     },
     "metadata": {},
     "output_type": "display_data"
    },
    {
     "data": {
      "image/png": "[encoded data removed]",
      "text/plain": [
       "<matplotlib.figure.Figure at 0x7feeac7c9978>"
      ]
     },
     "metadata": {},
     "output_type": "display_data"
    }
   ],
   "source": [
    "sns.lmplot(data = probStatus(noShow, 'Age'), x = 'Age', y = 'probShowUp', fit_reg = True)\n",
    "plt.xlim(0, 100)\n",
    "plt.title('Probability of showing up with respect to Age')\n",
    "plt.show()\n",
    "\n",
    "sns.lmplot(data = probStatus(noShow, 'HourOfTheDay'), x = 'HourOfTheDay', \n",
    "           y = 'probShowUp', fit_reg = True)\n",
    "plt.title('Probability of showing up with respect to HourOfTheDay')\n",
    "plt.show()\n",
    "\n",
    "# sns.lmplot(data = probStatus(noShow, 'AwaitingTime'), x = 'AwaitingTime', \n",
    "#            y = 'probShowUp', fit_reg = True)\n",
    "# sns.plt.title('Probability of showing up with respect to AwaitingTime')\n",
    "# sns.plt.ylim(0, 1)\n",
    "# sns.plt.show()"
   ]
  },
  {
   "cell_type": "code",
   "execution_count": 19,
   "metadata": {},
   "outputs": [],
   "source": [
    "def probStatusCategorical(group_by):\n",
    "    rows = []\n",
    "    for item in group_by:\n",
    "            for level in noShow[item].unique():\n",
    "                row = {'Condition': item}\n",
    "                total = len(noShow[noShow[item] == level])\n",
    "                n = len(noShow[(noShow[item] == level) & (noShow.is_show == 1)])\n",
    "                row.update({'Level':level, 'Probability': n / total})\n",
    "                rows.append(row)\n",
    "    print(total, n)\n",
    "    return pds.DataFrame(rows)"
   ]
  },
  {
   "cell_type": "code",
   "execution_count": 20,
   "metadata": {},
   "outputs": [
    {
     "name": "stdout",
     "output_type": "stream",
     "text": [
      "35481 25697\n"
     ]
    },
    {
     "data": {
      "image/png": "[encoded data removed]",
      "text/plain": [
       "<matplotlib.figure.Figure at 0x7feeacc1b470>"
      ]
     },
     "metadata": {},
     "output_type": "display_data"
    }
   ],
   "source": [
    "sns.barplot(data = probStatusCategorical(['Scholarship', 'Hypertension', \n",
    "                                          'Diabetes', 'Alcoholism', 'SMS_received']),\n",
    "           x = 'Condition', y = 'Probability', hue = 'Level', palette = 'Set2')\n",
    "plt.title('Prob of show up')\n",
    "plt.ylabel('Probability')\n",
    "plt.show()"
   ]
  },
  {
   "cell_type": "markdown",
   "metadata": {},
   "source": [
    "## SMS를 받은 사람이 왜 덜오냐;(나만 그런거 아니라 다른 사람들 분석도 다 이럼)"
   ]
  },
  {
   "cell_type": "code",
   "execution_count": 21,
   "metadata": {},
   "outputs": [
    {
     "name": "stdout",
     "output_type": "stream",
     "text": [
      "38687 30962\n"
     ]
    },
    {
     "data": {
      "image/png": "[encoded data removed]",
      "text/plain": [
       "<matplotlib.figure.Figure at 0x7feeaceb2978>"
      ]
     },
     "metadata": {},
     "output_type": "display_data"
    }
   ],
   "source": [
    "sns.barplot(data = probStatusCategorical(['Gender']), x = 'Condition', y = 'Probability', \n",
    "            hue = 'Level', palette = 'Set2')\n",
    "plt.title('Prob of show up')\n",
    "plt.ylabel('Probability')\n",
    "plt.show()"
   ]
  },
  {
   "cell_type": "code",
   "execution_count": 22,
   "metadata": {},
   "outputs": [
    {
     "name": "stdout",
     "output_type": "stream",
     "text": [
      "3 2\n"
     ]
    },
    {
     "data": {
      "image/png": "[encoded data removed]",
      "text/plain": [
       "<matplotlib.figure.Figure at 0x7feeace4b6d8>"
      ]
     },
     "metadata": {},
     "output_type": "display_data"
    }
   ],
   "source": [
    "sns.barplot(data=probStatusCategorical(['Handcap']), x = 'Condition', y = 'Probability', \n",
    "            hue = 'Level', palette = 'Set2')\n",
    "plt.title('Prob handicapped')\n",
    "plt.ylabel('Probability')\n",
    "plt.show()"
   ]
  },
  {
   "cell_type": "code",
   "execution_count": 23,
   "metadata": {},
   "outputs": [
    {
     "name": "stdout",
     "output_type": "stream",
     "text": [
      "['JARDIM DA PENHA' 'MATA DA PRAIA' 'PONTAL DE CAMBURI' 'REPÚBLICA'\n",
      " 'GOIABEIRAS' 'ANDORINHAS' 'CONQUISTA' 'NOVA PALESTINA' 'DA PENHA'\n",
      " 'TABUAZEIRO' 'BENTO FERREIRA' 'SÃO PEDRO' 'SANTA MARTHA' 'SÃO CRISTÓVÃO'\n",
      " 'MARUÍPE' 'GRANDE VITÓRIA' 'SÃO BENEDITO' 'ILHA DAS CAIEIRAS'\n",
      " 'SANTO ANDRÉ' 'SOLON BORGES' 'BONFIM' 'JARDIM CAMBURI' 'MARIA ORTIZ'\n",
      " 'JABOUR' 'ANTÔNIO HONÓRIO' 'RESISTÊNCIA' 'ILHA DE SANTA MARIA'\n",
      " 'JUCUTUQUARA' 'MONTE BELO' 'MÁRIO CYPRESTE' 'SANTO ANTÔNIO' 'BELA VISTA'\n",
      " 'PRAIA DO SUÁ' 'SANTA HELENA' 'ITARARÉ' 'INHANGUETÁ' 'UNIVERSITÁRIO'\n",
      " 'SÃO JOSÉ' 'REDENÇÃO' 'SANTA CLARA' 'CENTRO' 'PARQUE MOSCOSO' 'DO MOSCOSO'\n",
      " 'SANTOS DUMONT' 'CARATOÍRA' 'ARIOVALDO FAVALESSA' 'ILHA DO FRADE'\n",
      " 'GURIGICA' 'JOANA D´ARC' 'CONSOLAÇÃO' 'PRAIA DO CANTO' 'BOA VISTA'\n",
      " 'MORADA DE CAMBURI' 'SANTA LUÍZA' 'SANTA LÚCIA' 'BARRO VERMELHO'\n",
      " 'ESTRELINHA' 'FORTE SÃO JOÃO' 'FONTE GRANDE' 'ENSEADA DO SUÁ'\n",
      " 'SANTOS REIS' 'PIEDADE' 'JESUS DE NAZARETH' 'SANTA TEREZA' 'CRUZAMENTO'\n",
      " 'ILHA DO PRÍNCIPE' 'ROMÃO' 'COMDUSA' 'SANTA CECÍLIA' 'VILA RUBIM'\n",
      " 'DE LOURDES' 'DO QUADRO' 'DO CABRAL' 'HORTO' 'SEGURANÇA DO LAR'\n",
      " 'ILHA DO BOI' 'FRADINHOS' 'NAZARETH' 'AEROPORTO'\n",
      " 'ILHAS OCEÂNICAS DE TRINDADE' 'PARQUE INDUSTRIAL']\n"
     ]
    }
   ],
   "source": [
    "print(noShow.Neighbourhood.unique())"
   ]
  },
  {
   "cell_type": "code",
   "execution_count": 24,
   "metadata": {},
   "outputs": [],
   "source": [
    "# sns.barplot(data = probStatusCategorical(['Neighbourhood']), x = 'Condition', y = 'Probability', \n",
    "#            hue = 'Level', palette = 'Set3')\n",
    "# plt.title('Prob by neighborhood')\n",
    "# plt.ylabel('Probability')\n",
    "# plt.show()"
   ]
  },
  {
   "cell_type": "code",
   "execution_count": 25,
   "metadata": {},
   "outputs": [
    {
     "name": "stdout",
     "output_type": "stream",
     "text": [
      "2\n",
      "1\n",
      "2\n",
      "1\n",
      "2\n",
      "1\n",
      "2\n",
      "1\n",
      "[{'Condition': 'Diabetes', 'Probability': 0.46461209944371995}, {'Condition': 'Hypertension', 'Probability': 0.4526464267448176}, {'Condition': 'Alcoholism', 'Probability': 0.4993293725379223}, {'Condition': 'Scholarship', 'Probability': 0.5516020514742662}]\n"
     ]
    },
    {
     "data": {
      "image/png": "[encoded data removed]",
      "text/plain": [
       "<matplotlib.figure.Figure at 0x7feeacd3e6a0>"
      ]
     },
     "metadata": {},
     "output_type": "display_data"
    }
   ],
   "source": [
    "def posteriorNoShow(condition):\n",
    "    levels = list(noShow[condition].unique())\n",
    "    print(len(levels))\n",
    "    if condition not in ['Gender']: \n",
    "        levels.remove(0)\n",
    "        print(len(levels))\n",
    "    rows = []\n",
    "    for level in levels:\n",
    "        p = len(noShow[noShow[condition] == level]) / len(noShow)\n",
    "        p1 = len(noShow[(noShow[condition] == level) & (noShow['is_show'] == 0)]) / len(\n",
    "            noShow[noShow['is_show'] == 0])\n",
    "        p2 = len(noShow[(noShow[condition] == level) & (noShow['is_show'] == 1)])  / len(\n",
    "            noShow[noShow['is_show'] == 1])\n",
    "        if len(levels) > 1:\n",
    "            rows.append({'Levels': level, \n",
    "                         'Probability': (p * p1) / (p * p1 + p * p2)})\n",
    "        else:\n",
    "            rows.append({'Condition': condition,\n",
    "                         'Probability': (p * p1) / (p * p1 + p * p2)})\n",
    "    return rows\n",
    "    \n",
    "    \n",
    "# print(type(noShow.is_show[0]))\n",
    "# print(type(noShow.Diabetes[0]))\n",
    "\n",
    "# levels = list(noShow['Diabetes'].unique())\n",
    "# for level in levels:\n",
    "#     cola = len(noShow[(noShow['Diabetes'] == level)]) / len(noShow)\n",
    "#     p1 = len(noShow['is_show'] == 0)\n",
    "#     p1 = len(noShow[(noShow['Diabetes'] == level) & (noShow['is_show'] == 0)])\n",
    "#     p1 = len(noShow[(noShow['Diabetes'] == level) & (noShow['is_show'] == 0)]) / len(\n",
    "#         noShow[noShow['is_show'] == 0])\n",
    "#     print(cola, p1)\n",
    "\n",
    "\n",
    "\n",
    "# print(list(noShow['Diabetes'].unique()))\n",
    "# print(len(noShow[(noShow['Diabetes'] == level)]))\n",
    "# posteriorNoShow('Diabetes')\n",
    "# posteriorNoShow('Diabetes')\n",
    "\n",
    "tuples = []\n",
    "tuples.extend(posteriorNoShow('Diabetes'))\n",
    "tuples.extend(posteriorNoShow('Hypertension'))\n",
    "tuples.extend(posteriorNoShow('Alcoholism'))\n",
    "# tuples.extend(posteriorNoShow('Tuberculosis'))\n",
    "# tuples.extend(posteriorNoShow('Smokes'))\n",
    "tuples.extend(posteriorNoShow('Scholarship'))\n",
    "print(tuples)\n",
    "\n",
    "sns.barplot(data = pds.DataFrame(tuples)[['Condition', 'Probability']], \n",
    "            x = 'Condition', y = 'Probability', palette = 'Set2')\n",
    "plt.title('Posterior probability of diseases and scholarship given a no-show')\n",
    "plt.ylabel('Probability')\n",
    "plt.show()"
   ]
  },
  {
   "cell_type": "code",
   "execution_count": 26,
   "metadata": {},
   "outputs": [
    {
     "name": "stdout",
     "output_type": "stream",
     "text": [
      "<class 'int'>\n"
     ]
    }
   ],
   "source": [
    "print(type(0))"
   ]
  },
  {
   "cell_type": "code",
   "execution_count": 27,
   "metadata": {},
   "outputs": [],
   "source": [
    "def dayToNumber(day):\n",
    "    if day == 'Monday': \n",
    "        return 0\n",
    "    if day == 'Tuesday': \n",
    "        return 1\n",
    "    if day == 'Wednesday': \n",
    "        return 2\n",
    "    if day == 'Thursday': \n",
    "        return 3\n",
    "    if day == 'Friday': \n",
    "        return 4\n",
    "    if day == 'Saturday': \n",
    "        return 5\n",
    "    if day == 'Sunday': \n",
    "        return 6\n",
    "\n",
    "noShow.Gender = noShow.Gender.apply(lambda x: 1 if x == 'M' else 0)\n",
    "# noShow.DayOfTheWeek = noShow.DayOfTheWeek.apply(dayToNumber)\n",
    "noShow.is_show = noShow.is_show.apply(lambda x: 1 if x == 'Show-Up' else 0)"
   ]
  },
  {
   "cell_type": "markdown",
   "metadata": {},
   "source": [
    "### 뭐지??? labels_train = noShow.Status[:110527] 자꾸 'DataFrame' object has no attribute 'Status'\n",
    "원본 코드에서 Status가 is_show였어... 이거때문에 계속 오류났음"
   ]
  },
  {
   "cell_type": "code",
   "execution_count": 28,
   "metadata": {},
   "outputs": [],
   "source": [
    "feature_train = noShow[[ 'Gender', 'Age', 'Scholarship', 'Hypertension',\n",
    "       'Diabetes', 'Alcoholism', 'Handcap', 'SMS_received', 'is_show']].iloc[:110527]\n",
    "labels_train = noShow.is_show[:110527]\n",
    "feature_test = noShow[[ 'Gender', 'Age', 'Scholarship', 'Hypertension',\n",
    "       'Diabetes', 'Alcoholism', 'Handcap', 'SMS_received', 'is_show']].iloc[:110527]\n",
    "labels_test = noShow.is_show[:110527]"
   ]
  },
  {
   "cell_type": "code",
   "execution_count": 29,
   "metadata": {},
   "outputs": [],
   "source": [
    "# from sklearn.metrics import accuracy_score\n",
    "# from sklearn.naive_bayes import MultinomialNB\n",
    "\n",
    "# clf =  MultinomialNB().fit(feature_train, labels_train)\n",
    "# print('Accuracy:', round(accuracy_score(labels_test, \n",
    "#                                         clf.predict(feature_test)), 2) * 100, '%')\n",
    "# 테스트데이터가 없음"
   ]
  },
  {
   "cell_type": "code",
   "execution_count": null,
   "metadata": {},
   "outputs": [],
   "source": []
  },
  {
   "cell_type": "code",
   "execution_count": null,
   "metadata": {},
   "outputs": [],
   "source": []
  },
  {
   "cell_type": "code",
   "execution_count": null,
   "metadata": {},
   "outputs": [],
   "source": []
  },
  {
   "cell_type": "code",
   "execution_count": null,
   "metadata": {},
   "outputs": [],
   "source": [
    "labels_"
   ]
  },
  {
   "cell_type": "code",
   "execution_count": null,
   "metadata": {},
   "outputs": [],
   "source": []
  },
  {
   "cell_type": "code",
   "execution_count": null,
   "metadata": {},
   "outputs": [],
   "source": []
  },
  {
   "cell_type": "code",
   "execution_count": null,
   "metadata": {},
   "outputs": [],
   "source": []
  },
  {
   "cell_type": "code",
   "execution_count": null,
   "metadata": {},
   "outputs": [],
   "source": []
  },
  {
   "cell_type": "code",
   "execution_count": null,
   "metadata": {},
   "outputs": [],
   "source": []
  },
  {
   "cell_type": "code",
   "execution_count": null,
   "metadata": {},
   "outputs": [],
   "source": []
  },
  {
   "cell_type": "code",
   "execution_count": null,
   "metadata": {},
   "outputs": [],
   "source": []
  },
  {
   "cell_type": "code",
   "execution_count": null,
   "metadata": {},
   "outputs": [],
   "source": []
  },
  {
   "cell_type": "code",
   "execution_count": null,
   "metadata": {},
   "outputs": [],
   "source": []
  },
  {
   "cell_type": "code",
   "execution_count": null,
   "metadata": {},
   "outputs": [],
   "source": []
  },
  {
   "cell_type": "code",
   "execution_count": null,
   "metadata": {},
   "outputs": [],
   "source": []
  }
 ],
 "metadata": {
  "kernelspec": {
   "display_name": "Python [conda env:ml]",
   "language": "python",
   "name": "conda-env-ml-py"
  },
  "language_info": {
   "codemirror_mode": {
    "name": "ipython",
    "version": 3
   },
   "file_extension": ".py",
   "mimetype": "text/x-python",
   "name": "python",
   "nbconvert_exporter": "python",
   "pygments_lexer": "ipython3",
   "version": "3.6.3"
  }
 },
 "nbformat": 4,
 "nbformat_minor": 2
}
